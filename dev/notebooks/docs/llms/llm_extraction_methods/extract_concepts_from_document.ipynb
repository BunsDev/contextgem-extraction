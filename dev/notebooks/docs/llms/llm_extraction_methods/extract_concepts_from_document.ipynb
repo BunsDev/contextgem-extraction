{
  "cells": [
    {
      "cell_type": "markdown",
      "id": "cell_0",
      "metadata": {},
      "source": [
        "# ContextGem: Extracting Concepts Directly from Documents"
      ]
    },
    {
      "cell_type": "code",
      "execution_count": null,
      "id": "cell_1",
      "metadata": {},
      "outputs": [],
      "source": [
        "%pip install -U contextgem"
      ]
    },
    {
      "cell_type": "markdown",
      "id": "cell_2",
      "metadata": {},
      "source": [
        "To run the extraction, please provide your LLM details in the ``DocumentLLM(...)`` constructor further below."
      ]
    },
    {
      "cell_type": "code",
      "execution_count": null,
      "id": "cell_3",
      "metadata": {},
      "outputs": [],
      "source": [
        "# ContextGem: Extracting Concepts Directly from Documents\n",
        "\n",
        "import os\n",
        "\n",
        "from contextgem import Document, DocumentLLM, NumericalConcept, StringConcept\n",
        "\n",
        "\n",
        "# Sample text content\n",
        "text_content = \"\"\"\n",
        "GreenTech Solutions is an environmental technology company founded in 2018 in Portland, Oregon.\n",
        "The company develops sustainable energy solutions and has 75 employees working remotely across the United States.\n",
        "Their primary product, EcoMonitor, helps businesses track carbon emissions and has been adopted by 2,500 organizations.\n",
        "GreenTech Solutions reported strong financial performance with $8.5 million in revenue for 2024.\n",
        "The company's CEO, Sarah Johnson, announced plans to achieve carbon neutrality by 2025.\n",
        "They recently opened a new research facility in Seattle and hired 20 additional engineers.\n",
        "\"\"\"\n",
        "\n",
        "# Create a Document object from text\n",
        "doc = Document(raw_text=text_content)\n",
        "\n",
        "# Define concepts to extract from the document\n",
        "doc.concepts = [\n",
        "    StringConcept(\n",
        "        name=\"Company Name\",\n",
        "        description=\"Full name of the company\",\n",
        "    ),\n",
        "    StringConcept(\n",
        "        name=\"CEO Name\",\n",
        "        description=\"Full name of the company's CEO\",\n",
        "    ),\n",
        "    NumericalConcept(\n",
        "        name=\"Employee Count\",\n",
        "        description=\"Total number of employees at the company\",\n",
        "        numeric_type=\"int\",\n",
        "    ),\n",
        "    StringConcept(\n",
        "        name=\"Annual Revenue\",\n",
        "        description=\"Company's total revenue for the year\",\n",
        "    ),\n",
        "]\n",
        "\n",
        "# Configure DocumentLLM with your API parameters\n",
        "llm = DocumentLLM(\n",
        "    model=\"azure/gpt-4.1\",\n",
        "    api_key=os.getenv(\"CONTEXTGEM_AZURE_OPENAI_API_KEY\"),\n",
        "    api_version=os.getenv(\"CONTEXTGEM_AZURE_OPENAI_API_VERSION\"),\n",
        "    api_base=os.getenv(\"CONTEXTGEM_AZURE_OPENAI_API_BASE\"),\n",
        ")\n",
        "\n",
        "# Extract concepts from the document\n",
        "extracted_concepts = llm.extract_concepts_from_document(doc)\n",
        "\n",
        "# Access extracted concept information\n",
        "print(\"Concepts extracted from document:\")\n",
        "for concept in extracted_concepts:\n",
        "    print(f\"  {concept.name}: {[item.value for item in concept.extracted_items]}\")\n"
      ]
    }
  ],
  "metadata": {
    "kernelspec": {
      "display_name": "Python 3",
      "language": "python",
      "name": "python3"
    },
    "language_info": {
      "codemirror_mode": {
        "name": "ipython",
        "version": 3
      },
      "file_extension": ".py",
      "mimetype": "text/x-python",
      "name": "python",
      "nbconvert_exporter": "python",
      "pygments_lexer": "ipython3",
      "version": "3.10.0"
    }
  },
  "nbformat": 4,
  "nbformat_minor": 5
}