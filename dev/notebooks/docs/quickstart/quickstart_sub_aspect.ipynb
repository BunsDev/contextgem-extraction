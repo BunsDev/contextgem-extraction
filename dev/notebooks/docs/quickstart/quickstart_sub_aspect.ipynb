{
  "cells": [
    {
      "cell_type": "markdown",
      "id": "cell_0",
      "metadata": {},
      "source": [
        "# Quick Start Example - Extracting an aspect with sub-aspects"
      ]
    },
    {
      "cell_type": "code",
      "execution_count": null,
      "id": "cell_1",
      "metadata": {},
      "outputs": [],
      "source": [
        "%pip install -U contextgem"
      ]
    },
    {
      "cell_type": "markdown",
      "id": "cell_2",
      "metadata": {},
      "source": [
        "To run the extraction, please provide your LLM details in the ``DocumentLLM(...)`` constructor further below."
      ]
    },
    {
      "cell_type": "code",
      "execution_count": null,
      "id": "cell_3",
      "metadata": {},
      "outputs": [],
      "source": [
        "# Quick Start Example - Extracting an aspect with sub-aspects\n",
        "\n",
        "import os\n",
        "\n",
        "from contextgem import Aspect, Document, DocumentLLM\n",
        "\n",
        "# Sample document (content shortened for brevity)\n",
        "contract_text = \"\"\"\n",
        "EMPLOYMENT AGREEMENT\n",
        "...\n",
        "8. TERMINATION\n",
        "8.1 Termination by the Company. The Company may terminate the Employee's employment for Cause at any time upon written notice. \n",
        "\"Cause\" shall mean: (i) Employee's material breach of this Agreement; (ii) Employee's conviction of a felony; or \n",
        "(iii) Employee's willful misconduct that causes material harm to the Company.\n",
        "8.2 Termination by the Employee. The Employee may terminate employment for Good Reason upon 30 days' written notice to the Company. \n",
        "\"Good Reason\" shall mean a material reduction in Employee's base salary or a material diminution in Employee's duties.\n",
        "8.3 Severance. If the Employee's employment is terminated by the Company without Cause or by the Employee for Good Reason, \n",
        "the Employee shall be entitled to receive severance pay equal to six (6) months of the Employee's base salary.\n",
        "...\n",
        "\"\"\"\n",
        "\n",
        "doc = Document(raw_text=contract_text)\n",
        "\n",
        "# Define termination aspect with practical sub-aspects\n",
        "termination_aspect = Aspect(\n",
        "    name=\"Termination\",\n",
        "    description=\"Provisions related to the termination of employment\",\n",
        "    aspects=[  # assign sub-aspects (optional)\n",
        "        Aspect(\n",
        "            name=\"Company Termination Rights\",\n",
        "            description=\"Conditions under which the company can terminate employment\",\n",
        "        ),\n",
        "        Aspect(\n",
        "            name=\"Employee Termination Rights\",\n",
        "            description=\"Conditions under which the employee can terminate employment\",\n",
        "        ),\n",
        "        Aspect(\n",
        "            name=\"Severance Terms\",\n",
        "            description=\"Compensation or benefits provided upon termination\",\n",
        "        ),\n",
        "    ],\n",
        ")\n",
        "\n",
        "# Add the aspect to the document. Sub-aspects are added with the parent aspect.\n",
        "doc.add_aspects([termination_aspect])\n",
        "# (add more aspects to the document, if needed)\n",
        "\n",
        "# Create an LLM for extraction\n",
        "llm = DocumentLLM(\n",
        "    model=\"openai/gpt-4o-mini\",  # or any other LLM from e.g. Anthropic, etc.\n",
        "    api_key=os.environ.get(\n",
        "        \"CONTEXTGEM_OPENAI_API_KEY\"\n",
        "    ),  # your API key of the LLM provider\n",
        ")\n",
        "\n",
        "# Extract all information from the document\n",
        "doc = llm.extract_all(doc)\n",
        "\n",
        "# Get results with references in the document object\n",
        "print(\"\\nTermination aspect:\\n\")\n",
        "termination_aspect = doc.get_aspect_by_name(\"Termination\")\n",
        "for sub_aspect in termination_aspect.aspects:\n",
        "    print(sub_aspect.name)\n",
        "    for item in sub_aspect.extracted_items:\n",
        "        print(item.value)\n",
        "    print(\"\\n\")\n"
      ]
    }
  ],
  "metadata": {
    "kernelspec": {
      "display_name": "Python 3",
      "language": "python",
      "name": "python3"
    },
    "language_info": {
      "codemirror_mode": {
        "name": "ipython",
        "version": 3
      },
      "file_extension": ".py",
      "mimetype": "text/x-python",
      "name": "python",
      "nbconvert_exporter": "python",
      "pygments_lexer": "ipython3",
      "version": "3.10.0"
    }
  },
  "nbformat": 4,
  "nbformat_minor": 5
}