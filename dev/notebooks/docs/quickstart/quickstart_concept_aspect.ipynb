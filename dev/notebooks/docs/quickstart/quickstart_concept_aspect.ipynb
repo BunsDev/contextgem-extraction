{
  "cells": [
    {
      "cell_type": "markdown",
      "id": "cell_0",
      "metadata": {},
      "source": [
        "# Quick Start Example - Extracting a concept from an aspect"
      ]
    },
    {
      "cell_type": "code",
      "execution_count": null,
      "id": "cell_1",
      "metadata": {},
      "outputs": [],
      "source": [
        "%pip install -U contextgem"
      ]
    },
    {
      "cell_type": "markdown",
      "id": "cell_2",
      "metadata": {},
      "source": [
        "To run the extraction, please provide your LLM details in the ``DocumentLLM(...)`` constructor further below."
      ]
    },
    {
      "cell_type": "code",
      "execution_count": null,
      "id": "cell_3",
      "metadata": {},
      "outputs": [],
      "source": [
        "# Quick Start Example - Extracting a concept from an aspect\n",
        "\n",
        "import os\n",
        "\n",
        "from contextgem import Aspect, Document, DocumentLLM, StringConcept, StringExample\n",
        "\n",
        "\n",
        "# Example document instance\n",
        "# Document content is shortened for brevity\n",
        "doc = Document(\n",
        "    raw_text=(\n",
        "        \"Employment Agreement\\n\"\n",
        "        \"This agreement between TechCorp Inc. (Employer) and Jane Smith (Employee)...\\n\"\n",
        "        \"The employment shall commence on January 15, 2023 and continue until terminated...\\n\"\n",
        "        \"The Employee shall work as a Senior Software Engineer reporting to the CTO...\\n\"\n",
        "        \"The Employee shall receive an annual salary of $120,000 paid monthly...\\n\"\n",
        "        \"The Employee is entitled to 20 days of paid vacation per year...\\n\"\n",
        "        \"The Employee agrees to a notice period of 30 days for resignation...\\n\"\n",
        "        \"This agreement is governed by the laws of California...\\n\"\n",
        "    ),\n",
        ")\n",
        "\n",
        "# Define an aspect with a specific concept, using natural language\n",
        "doc_aspect = Aspect(\n",
        "    name=\"Compensation\",\n",
        "    description=\"Clauses defining the compensation and benefits for the employee\",\n",
        "    reference_depth=\"sentences\",\n",
        ")\n",
        "\n",
        "# Define a concept within the aspect\n",
        "aspect_concept = StringConcept(\n",
        "    name=\"Annual Salary\",\n",
        "    description=\"The annual base salary amount specified in the employment agreement\",\n",
        "    examples=[  # optional\n",
        "        StringExample(\n",
        "            content=\"$X per year\",  # guidance regarding format\n",
        "        )\n",
        "    ],\n",
        "    add_references=True,\n",
        "    reference_depth=\"sentences\",\n",
        ")\n",
        "\n",
        "# Add the concept to the aspect\n",
        "doc_aspect.add_concepts([aspect_concept])\n",
        "# (add more concepts to the aspect, if needed)\n",
        "\n",
        "# Add the aspect to the document\n",
        "doc.add_aspects([doc_aspect])\n",
        "# (add more aspects to the document, if needed)\n",
        "\n",
        "# Create an LLM for extraction\n",
        "llm = DocumentLLM(\n",
        "    model=\"openai/gpt-4o-mini\",  # or any other LLM from e.g. Anthropic, etc.\n",
        "    api_key=os.environ.get(\"CONTEXTGEM_OPENAI_API_KEY\"),  # your API key\n",
        ")\n",
        "\n",
        "# Extract information from the document\n",
        "doc = llm.extract_all(doc)\n",
        "# or use async version llm.extract_all_async(doc)\n",
        "\n",
        "# Access extracted information in the document object\n",
        "print(\"Compensation aspect:\")\n",
        "print(\n",
        "    doc.get_aspect_by_name(\"Compensation\").extracted_items\n",
        ")  # extracted aspect items with references to sentences\n",
        "print(\"Annual Salary concept:\")\n",
        "print(\n",
        "    doc.get_aspect_by_name(\"Compensation\")\n",
        "    .get_concept_by_name(\"Annual Salary\")\n",
        "    .extracted_items\n",
        ")  # extracted concept items with references to sentences\n"
      ]
    }
  ],
  "metadata": {
    "kernelspec": {
      "display_name": "Python 3",
      "language": "python",
      "name": "python3"
    },
    "language_info": {
      "codemirror_mode": {
        "name": "ipython",
        "version": 3
      },
      "file_extension": ".py",
      "mimetype": "text/x-python",
      "name": "python",
      "nbconvert_exporter": "python",
      "pygments_lexer": "ipython3",
      "version": "3.10.0"
    }
  },
  "nbformat": 4,
  "nbformat_minor": 5
}