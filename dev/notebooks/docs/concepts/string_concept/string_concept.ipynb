{
  "cells": [
    {
      "cell_type": "markdown",
      "id": "cell_0",
      "metadata": {},
      "source": [
        "# ContextGem: StringConcept Extraction"
      ]
    },
    {
      "cell_type": "code",
      "execution_count": null,
      "id": "cell_1",
      "metadata": {},
      "outputs": [],
      "source": [
        "%pip install -U contextgem"
      ]
    },
    {
      "cell_type": "markdown",
      "id": "cell_2",
      "metadata": {},
      "source": [
        "To run the extraction, please provide your LLM details in the ``DocumentLLM(...)`` constructor further below."
      ]
    },
    {
      "cell_type": "code",
      "execution_count": null,
      "id": "cell_3",
      "metadata": {},
      "outputs": [],
      "source": [
        "# ContextGem: StringConcept Extraction\n",
        "\n",
        "import os\n",
        "\n",
        "from contextgem import Document, DocumentLLM, StringConcept\n",
        "\n",
        "\n",
        "# Create a Document object from text\n",
        "doc = Document(raw_text=\"My name is John Smith and I am 30 years old.\")\n",
        "\n",
        "# Define a StringConcept to extract a person's name\n",
        "name_concept = StringConcept(\n",
        "    name=\"Person name\",\n",
        "    description=\"Full name of the person\",\n",
        ")\n",
        "\n",
        "# Attach the concept to the document\n",
        "doc.add_concepts([name_concept])\n",
        "\n",
        "# Configure DocumentLLM with your API parameters\n",
        "llm = DocumentLLM(\n",
        "    model=\"azure/gpt-4.1-mini\",\n",
        "    api_key=os.getenv(\"CONTEXTGEM_AZURE_OPENAI_API_KEY\"),\n",
        "    api_version=os.getenv(\"CONTEXTGEM_AZURE_OPENAI_API_VERSION\"),\n",
        "    api_base=os.getenv(\"CONTEXTGEM_AZURE_OPENAI_API_BASE\"),\n",
        ")\n",
        "\n",
        "# Extract the concept from the document\n",
        "name_concept = llm.extract_concepts_from_document(doc)[0]\n",
        "\n",
        "# Get the extracted value\n",
        "print(name_concept.extracted_items[0].value)  # Output: \"John Smith\"\n",
        "# Or access the extracted value from the document object\n",
        "print(doc.concepts[0].extracted_items[0].value)  # Output: \"John Smith\"\n"
      ]
    }
  ],
  "metadata": {
    "kernelspec": {
      "display_name": "Python 3",
      "language": "python",
      "name": "python3"
    },
    "language_info": {
      "codemirror_mode": {
        "name": "ipython",
        "version": 3
      },
      "file_extension": ".py",
      "mimetype": "text/x-python",
      "name": "python",
      "nbconvert_exporter": "python",
      "pygments_lexer": "ipython3",
      "version": "3.10.0"
    }
  },
  "nbformat": 4,
  "nbformat_minor": 5
}