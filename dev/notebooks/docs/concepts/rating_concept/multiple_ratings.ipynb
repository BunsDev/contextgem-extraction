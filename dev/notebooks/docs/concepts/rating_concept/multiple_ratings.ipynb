{
  "cells": [
    {
      "cell_type": "markdown",
      "id": "cell_0",
      "metadata": {},
      "source": [
        "# ContextGem: Multiple RatingConcept Extraction"
      ]
    },
    {
      "cell_type": "code",
      "execution_count": null,
      "id": "cell_1",
      "metadata": {},
      "outputs": [],
      "source": [
        "%pip install -U contextgem"
      ]
    },
    {
      "cell_type": "markdown",
      "id": "cell_2",
      "metadata": {},
      "source": [
        "To run the extraction, please provide your LLM details in the ``DocumentLLM(...)`` constructor further below."
      ]
    },
    {
      "cell_type": "code",
      "execution_count": null,
      "id": "cell_3",
      "metadata": {},
      "outputs": [],
      "source": [
        "# ContextGem: Multiple RatingConcept Extraction\n",
        "\n",
        "import os\n",
        "\n",
        "from contextgem import Document, DocumentLLM, RatingConcept, RatingScale\n",
        "\n",
        "# Sample document text about a restaurant review with multiple quality aspects to rate\n",
        "restaurant_review = \"\"\"\n",
        "Restaurant Review: Bella Cucina\n",
        "\n",
        "Atmosphere: The restaurant has a warm, inviting ambiance with soft lighting and comfortable seating. The d\u00e9cor is elegant without being pretentious, and the noise level allows for easy conversation.\n",
        "\n",
        "Food Quality: The ingredients were fresh and high-quality. The pasta was perfectly cooked al dente, and the sauces were flavorful and well-balanced. The seafood dish had slightly overcooked shrimp, but the fish was excellent.\n",
        "\n",
        "Service: Our server was knowledgeable about the menu and wine list. Water glasses were kept filled, and plates were cleared promptly. However, there was a noticeable delay between appetizers and main courses.\n",
        "\n",
        "Value: Portion sizes were generous for the price point. The wine list offers selections at various price points, though markup is slightly higher than average for comparable restaurants in the area.\n",
        "\"\"\"\n",
        "\n",
        "# Create a Document from the text\n",
        "doc = Document(raw_text=restaurant_review)\n",
        "\n",
        "# Define a consistent rating scale to be used across all rating categories\n",
        "restaurant_rating_scale = RatingScale(start=1, end=5)\n",
        "\n",
        "# Define multiple rating concepts for different quality aspects of the restaurant\n",
        "atmosphere_rating = RatingConcept(\n",
        "    name=\"Atmosphere Rating\",\n",
        "    description=\"Rate the restaurant's atmosphere and ambiance\",\n",
        "    rating_scale=restaurant_rating_scale,\n",
        ")\n",
        "\n",
        "food_rating = RatingConcept(\n",
        "    name=\"Food Quality Rating\",\n",
        "    description=\"Rate the quality, preparation, and taste of the food\",\n",
        "    rating_scale=restaurant_rating_scale,\n",
        ")\n",
        "\n",
        "service_rating = RatingConcept(\n",
        "    name=\"Service Rating\",\n",
        "    description=\"Rate the efficiency, knowledge, and attentiveness of the service\",\n",
        "    rating_scale=restaurant_rating_scale,\n",
        ")\n",
        "\n",
        "value_rating = RatingConcept(\n",
        "    name=\"Value Rating\",\n",
        "    description=\"Rate the value for money considering portion sizes and pricing\",\n",
        "    rating_scale=restaurant_rating_scale,\n",
        ")\n",
        "\n",
        "# Attach all concepts to the document\n",
        "doc.add_concepts([atmosphere_rating, food_rating, service_rating, value_rating])\n",
        "\n",
        "# Configure DocumentLLM with your API parameters\n",
        "llm = DocumentLLM(\n",
        "    model=\"azure/gpt-4.1\",\n",
        "    api_key=os.getenv(\"CONTEXTGEM_AZURE_OPENAI_API_KEY\"),\n",
        "    api_version=os.getenv(\"CONTEXTGEM_AZURE_OPENAI_API_VERSION\"),\n",
        "    api_base=os.getenv(\"CONTEXTGEM_AZURE_OPENAI_API_BASE\"),\n",
        ")\n",
        "\n",
        "# Extract all concepts from the document\n",
        "extracted_concepts = llm.extract_concepts_from_document(doc)\n",
        "\n",
        "# Print all ratings\n",
        "print(\"Restaurant Ratings (1-5 scale):\")\n",
        "for concept in extracted_concepts:\n",
        "    if concept.extracted_items:\n",
        "        print(f\"{concept.name}: {concept.extracted_items[0].value}/5\")\n",
        "\n",
        "# Calculate and print overall average rating\n",
        "average_rating = sum(\n",
        "    concept.extracted_items[0].value for concept in extracted_concepts\n",
        ") / len(extracted_concepts)\n",
        "print(f\"\\nOverall Rating: {average_rating:.1f}/5\")\n"
      ]
    }
  ],
  "metadata": {
    "kernelspec": {
      "display_name": "Python 3",
      "language": "python",
      "name": "python3"
    },
    "language_info": {
      "codemirror_mode": {
        "name": "ipython",
        "version": 3
      },
      "file_extension": ".py",
      "mimetype": "text/x-python",
      "name": "python",
      "nbconvert_exporter": "python",
      "pygments_lexer": "ipython3",
      "version": "3.10.0"
    }
  },
  "nbformat": 4,
  "nbformat_minor": 5
}