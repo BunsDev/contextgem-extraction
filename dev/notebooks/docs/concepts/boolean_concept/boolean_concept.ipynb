{
  "cells": [
    {
      "cell_type": "markdown",
      "id": "cell_0",
      "metadata": {},
      "source": [
        "# ContextGem: BooleanConcept Extraction"
      ]
    },
    {
      "cell_type": "code",
      "execution_count": null,
      "id": "cell_1",
      "metadata": {},
      "outputs": [],
      "source": [
        "%pip install -U contextgem"
      ]
    },
    {
      "cell_type": "markdown",
      "id": "cell_2",
      "metadata": {},
      "source": [
        "To run the extraction, please provide your LLM details in the ``DocumentLLM(...)`` constructor further below."
      ]
    },
    {
      "cell_type": "code",
      "execution_count": null,
      "id": "cell_3",
      "metadata": {},
      "outputs": [],
      "source": [
        "# ContextGem: BooleanConcept Extraction\n",
        "\n",
        "import os\n",
        "\n",
        "from contextgem import BooleanConcept, Document, DocumentLLM\n",
        "\n",
        "\n",
        "# Create a Document object from text\n",
        "doc = Document(\n",
        "    raw_text=\"This document contains confidential information and should not be shared publicly.\"\n",
        ")\n",
        "\n",
        "# Define a BooleanConcept to detect confidential content\n",
        "confidentiality_concept = BooleanConcept(\n",
        "    name=\"Is confidential\",\n",
        "    description=\"Whether the document contains confidential information\",\n",
        ")\n",
        "\n",
        "# Attach the concept to the document\n",
        "doc.add_concepts([confidentiality_concept])\n",
        "\n",
        "# Configure DocumentLLM with your API parameters\n",
        "llm = DocumentLLM(\n",
        "    model=\"azure/gpt-4.1-mini\",\n",
        "    api_key=os.getenv(\"CONTEXTGEM_AZURE_OPENAI_API_KEY\"),\n",
        "    api_version=os.getenv(\"CONTEXTGEM_AZURE_OPENAI_API_VERSION\"),\n",
        "    api_base=os.getenv(\"CONTEXTGEM_AZURE_OPENAI_API_BASE\"),\n",
        ")\n",
        "\n",
        "# Extract the concept from the document\n",
        "confidentiality_concept = llm.extract_concepts_from_document(doc)[0]\n",
        "\n",
        "# Print the extracted value\n",
        "print(confidentiality_concept.extracted_items[0].value)  # Output: True\n",
        "# Or access the extracted value from the document object\n",
        "print(doc.concepts[0].extracted_items[0].value)  # Output: True\n"
      ]
    }
  ],
  "metadata": {
    "kernelspec": {
      "display_name": "Python 3",
      "language": "python",
      "name": "python3"
    },
    "language_info": {
      "codemirror_mode": {
        "name": "ipython",
        "version": 3
      },
      "file_extension": ".py",
      "mimetype": "text/x-python",
      "name": "python",
      "nbconvert_exporter": "python",
      "pygments_lexer": "ipython3",
      "version": "3.10.0"
    }
  },
  "nbformat": 4,
  "nbformat_minor": 5
}