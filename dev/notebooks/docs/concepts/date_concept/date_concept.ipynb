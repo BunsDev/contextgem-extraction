{
  "cells": [
    {
      "cell_type": "markdown",
      "id": "cell_0",
      "metadata": {},
      "source": [
        "# ContextGem: DateConcept Extraction"
      ]
    },
    {
      "cell_type": "code",
      "execution_count": null,
      "id": "cell_1",
      "metadata": {},
      "outputs": [],
      "source": [
        "%pip install -U contextgem"
      ]
    },
    {
      "cell_type": "markdown",
      "id": "cell_2",
      "metadata": {},
      "source": [
        "To run the extraction, please provide your LLM details in the ``DocumentLLM(...)`` constructor further below."
      ]
    },
    {
      "cell_type": "code",
      "execution_count": null,
      "id": "cell_3",
      "metadata": {},
      "outputs": [],
      "source": [
        "# ContextGem: DateConcept Extraction\n",
        "\n",
        "import os\n",
        "\n",
        "from contextgem import DateConcept, Document, DocumentLLM\n",
        "\n",
        "\n",
        "# Create a Document object from text\n",
        "doc = Document(\n",
        "    raw_text=\"The research paper was published on March 15, 2025 and has been cited 42 times since.\"\n",
        ")\n",
        "\n",
        "# Define a DateConcept to extract the publication date\n",
        "date_concept = DateConcept(\n",
        "    name=\"Publication date\",\n",
        "    description=\"The date when the paper was published\",\n",
        ")\n",
        "\n",
        "# Attach the concept to the document\n",
        "doc.add_concepts([date_concept])\n",
        "\n",
        "# Configure DocumentLLM with your API parameters\n",
        "llm = DocumentLLM(\n",
        "    model=\"azure/gpt-4.1-mini\",\n",
        "    api_key=os.getenv(\"CONTEXTGEM_AZURE_OPENAI_API_KEY\"),\n",
        "    api_version=os.getenv(\"CONTEXTGEM_AZURE_OPENAI_API_VERSION\"),\n",
        "    api_base=os.getenv(\"CONTEXTGEM_AZURE_OPENAI_API_BASE\"),\n",
        ")\n",
        "\n",
        "# Extract the concept from the document\n",
        "date_concept = llm.extract_concepts_from_document(doc)[0]\n",
        "\n",
        "# Print the extracted value\n",
        "print(\n",
        "    type(date_concept.extracted_items[0].value), date_concept.extracted_items[0].value\n",
        ")\n",
        "# Output: <class 'datetime.date'> 2025-03-15\n",
        "\n",
        "# Or access the extracted value from the document object\n",
        "print(\n",
        "    type(doc.concepts[0].extracted_items[0].value),\n",
        "    doc.concepts[0].extracted_items[0].value,\n",
        ")\n",
        "# Output: <class 'datetime.date'> 2025-03-15\n"
      ]
    }
  ],
  "metadata": {
    "kernelspec": {
      "display_name": "Python 3",
      "language": "python",
      "name": "python3"
    },
    "language_info": {
      "codemirror_mode": {
        "name": "ipython",
        "version": 3
      },
      "file_extension": ".py",
      "mimetype": "text/x-python",
      "name": "python",
      "nbconvert_exporter": "python",
      "pygments_lexer": "ipython3",
      "version": "3.10.0"
    }
  },
  "nbformat": 4,
  "nbformat_minor": 5
}