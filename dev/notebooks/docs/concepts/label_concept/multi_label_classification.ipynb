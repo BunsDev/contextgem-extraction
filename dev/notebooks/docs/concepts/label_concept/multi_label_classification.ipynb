{
  "cells": [
    {
      "cell_type": "markdown",
      "id": "cell_0",
      "metadata": {},
      "source": [
        "# ContextGem: Multi-Label Classification with LabelConcept"
      ]
    },
    {
      "cell_type": "code",
      "execution_count": null,
      "id": "cell_1",
      "metadata": {},
      "outputs": [],
      "source": [
        "%pip install -U contextgem"
      ]
    },
    {
      "cell_type": "markdown",
      "id": "cell_2",
      "metadata": {},
      "source": [
        "To run the extraction, please provide your LLM details in the ``DocumentLLM(...)`` constructor further below."
      ]
    },
    {
      "cell_type": "code",
      "execution_count": null,
      "id": "cell_3",
      "metadata": {},
      "outputs": [],
      "source": [
        "# ContextGem: Multi-Label Classification with LabelConcept\n",
        "\n",
        "import os\n",
        "\n",
        "from contextgem import Document, DocumentLLM, LabelConcept\n",
        "\n",
        "# Create a Document object with business document text covering multiple topics\n",
        "business_doc_text = \"\"\"\n",
        "QUARTERLY BUSINESS REVIEW - Q4 2024\n",
        "\n",
        "FINANCIAL PERFORMANCE\n",
        "Revenue for Q4 2024 reached $2.8 million, exceeding our target by 12%. The finance team has prepared detailed budget projections for 2025, with anticipated growth of 18% across all divisions.\n",
        "\n",
        "TECHNOLOGY INITIATIVES\n",
        "Our development team has successfully implemented the new cloud infrastructure, reducing operational costs by 25%. The IT department is now focusing on cybersecurity enhancements and data analytics platform upgrades.\n",
        "\n",
        "HUMAN RESOURCES UPDATE\n",
        "We welcomed 15 new employees this quarter, bringing our total headcount to 145. The HR team has launched a comprehensive employee wellness program and updated our remote work policies.\n",
        "\n",
        "LEGAL AND COMPLIANCE\n",
        "All regulatory compliance requirements have been met for Q4. The legal department has reviewed and updated our data privacy policies in accordance with recent legislation changes.\n",
        "\n",
        "MARKETING STRATEGY\n",
        "The marketing team launched three successful campaigns this quarter, resulting in a 40% increase in lead generation. Our digital marketing efforts have expanded to include LinkedIn advertising and content marketing.\n",
        "\"\"\"\n",
        "\n",
        "doc = Document(raw_text=business_doc_text)\n",
        "\n",
        "# Define a LabelConcept for topic classification allowing multiple topics\n",
        "content_topics_concept = LabelConcept(\n",
        "    name=\"Document Topics\",\n",
        "    description=\"Identify all relevant business topics covered in this document\",\n",
        "    labels=[\n",
        "        \"Finance\",\n",
        "        \"Technology\",\n",
        "        \"HR\",\n",
        "        \"Legal\",\n",
        "        \"Marketing\",\n",
        "        \"Operations\",\n",
        "        \"Sales\",\n",
        "        \"Strategy\",\n",
        "    ],\n",
        "    classification_type=\"multi_label\",  # multiple labels can be selected (non-exclusive labels)\n",
        ")\n",
        "\n",
        "\n",
        "# Attach the concept to the document\n",
        "doc.add_concepts([content_topics_concept])\n",
        "\n",
        "# Configure DocumentLLM with your API parameters\n",
        "llm = DocumentLLM(\n",
        "    model=\"azure/gpt-4.1-mini\",\n",
        "    api_key=os.getenv(\"CONTEXTGEM_AZURE_OPENAI_API_KEY\"),\n",
        "    api_version=os.getenv(\"CONTEXTGEM_AZURE_OPENAI_API_VERSION\"),\n",
        "    api_base=os.getenv(\"CONTEXTGEM_AZURE_OPENAI_API_BASE\"),\n",
        ")\n",
        "\n",
        "# Extract the concept from the document\n",
        "content_topics_concept = llm.extract_concepts_from_document(doc)[0]\n",
        "\n",
        "# Check if any labels were extracted\n",
        "if content_topics_concept.extracted_items:\n",
        "    # Get all identified topics\n",
        "    identified_topics = content_topics_concept.extracted_items[0].value\n",
        "    print(f\"Document covers the following topics: {', '.join(identified_topics)}\")\n",
        "    # Expected output might include: Finance, Technology, HR, Legal, Marketing\n",
        "else:\n",
        "    print(\"No applicable topic labels found for this document\")\n"
      ]
    }
  ],
  "metadata": {
    "kernelspec": {
      "display_name": "Python 3",
      "language": "python",
      "name": "python3"
    },
    "language_info": {
      "codemirror_mode": {
        "name": "ipython",
        "version": 3
      },
      "file_extension": ".py",
      "mimetype": "text/x-python",
      "name": "python",
      "nbconvert_exporter": "python",
      "pygments_lexer": "ipython3",
      "version": "3.10.0"
    }
  },
  "nbformat": 4,
  "nbformat_minor": 5
}