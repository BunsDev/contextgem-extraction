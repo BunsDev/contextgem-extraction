{
  "cells": [
    {
      "cell_type": "markdown",
      "id": "cell_0",
      "metadata": {},
      "source": [
        "# ContextGem: Aspect Extraction"
      ]
    },
    {
      "cell_type": "code",
      "execution_count": null,
      "id": "cell_1",
      "metadata": {},
      "outputs": [],
      "source": [
        "%pip install -U contextgem"
      ]
    },
    {
      "cell_type": "markdown",
      "id": "cell_2",
      "metadata": {},
      "source": [
        "To run the extraction, please provide your LLM details in the ``DocumentLLM(...)`` constructor further below."
      ]
    },
    {
      "cell_type": "code",
      "execution_count": null,
      "id": "cell_3",
      "metadata": {},
      "outputs": [],
      "source": [
        "# ContextGem: Aspect Extraction\n",
        "\n",
        "import os\n",
        "\n",
        "from contextgem import Aspect, Document, DocumentLLM\n",
        "\n",
        "# Create a document instance\n",
        "doc = Document(\n",
        "    raw_text=(\n",
        "        \"Software License Agreement\\n\"\n",
        "        \"This software license agreement (Agreement) is entered into between Tech Corp (Licensor) and Client Corp (Licensee).\\n\"\n",
        "        \"...\\n\"\n",
        "        \"2. Term and Termination\\n\"\n",
        "        \"This Agreement shall commence on the Effective Date and shall continue for a period of three (3) years, \"\n",
        "        \"unless earlier terminated in accordance with the provisions hereof. Either party may terminate this Agreement \"\n",
        "        \"upon thirty (30) days written notice to the other party.\\n\"\n",
        "        \"\\n\"\n",
        "        \"3. Payment Terms\\n\"\n",
        "        \"Licensee agrees to pay Licensor an annual license fee of $10,000, payable within thirty (30) days of the \"\n",
        "        \"invoice date. Late payments shall incur a penalty of 1.5% per month.\\n\"\n",
        "        \"...\\n\"\n",
        "    ),\n",
        ")\n",
        "\n",
        "# Define an aspect to extract the termination clause\n",
        "termination_aspect = Aspect(\n",
        "    name=\"Termination Clauses\",\n",
        "    description=\"Sections describing how and when the agreement can be terminated, including notice periods and conditions\",\n",
        ")\n",
        "\n",
        "# Add the aspect to the document\n",
        "doc.add_aspects([termination_aspect])\n",
        "\n",
        "# Configure DocumentLLM with your API parameters\n",
        "llm = DocumentLLM(\n",
        "    model=\"azure/gpt-4.1-mini\",\n",
        "    api_key=os.getenv(\"CONTEXTGEM_AZURE_OPENAI_API_KEY\"),\n",
        "    api_version=os.getenv(\"CONTEXTGEM_AZURE_OPENAI_API_VERSION\"),\n",
        "    api_base=os.getenv(\"CONTEXTGEM_AZURE_OPENAI_API_BASE\"),\n",
        ")\n",
        "\n",
        "# Extract the aspect from the document\n",
        "termination_aspect = llm.extract_aspects_from_document(doc)[0]\n",
        "\n",
        "# Access the extracted information\n",
        "print(\"Extracted Termination Clauses:\")\n",
        "for item in termination_aspect.extracted_items:\n",
        "    print(f\"- {item.value}\")\n"
      ]
    }
  ],
  "metadata": {
    "kernelspec": {
      "display_name": "Python 3",
      "language": "python",
      "name": "python3"
    },
    "language_info": {
      "codemirror_mode": {
        "name": "ipython",
        "version": 3
      },
      "file_extension": ".py",
      "mimetype": "text/x-python",
      "name": "python",
      "nbconvert_exporter": "python",
      "pygments_lexer": "ipython3",
      "version": "3.10.0"
    }
  },
  "nbformat": 4,
  "nbformat_minor": 5
}