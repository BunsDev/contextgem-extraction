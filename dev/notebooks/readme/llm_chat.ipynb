{
  "cells": [
    {
      "cell_type": "markdown",
      "id": "cell_0",
      "metadata": {},
      "source": [
        "# Using LLMs for chat (text + vision), with fallback LLM support"
      ]
    },
    {
      "cell_type": "code",
      "execution_count": null,
      "id": "cell_1",
      "metadata": {},
      "outputs": [],
      "source": [
        "%pip install -U contextgem"
      ]
    },
    {
      "cell_type": "markdown",
      "id": "cell_2",
      "metadata": {},
      "source": [
        "To run the extraction, please provide your LLM details in the ``DocumentLLM(...)`` constructor further below."
      ]
    },
    {
      "cell_type": "code",
      "execution_count": null,
      "id": "cell_3",
      "metadata": {},
      "outputs": [],
      "source": [
        "# Using LLMs for chat (text + vision), with fallback LLM support\n",
        "\n",
        "import os\n",
        "\n",
        "from contextgem import DocumentLLM\n",
        "\n",
        "\n",
        "# from contextgem import Image\n",
        "\n",
        "main_model = DocumentLLM(\n",
        "    model=\"openai/gpt-4o\",  # or another provider/model\n",
        "    api_key=os.getenv(\"CONTEXTGEM_OPENAI_API_KEY\"),  # your API key for the LLM provider\n",
        ")\n",
        "\n",
        "# Optional: fallback LLM\n",
        "fallback_model = DocumentLLM(\n",
        "    model=\"openai/gpt-4o-mini\",  # or another provider/model\n",
        "    api_key=os.getenv(\"CONTEXTGEM_OPENAI_API_KEY\"),  # your API key for the LLM provider\n",
        "    is_fallback=True,\n",
        ")\n",
        "main_model.fallback_llm = fallback_model\n",
        "\n",
        "response = main_model.chat(\n",
        "    \"Hello\",\n",
        "    # images=[Image(...)]\n",
        ")\n",
        "# or `response = await main_model.chat_async(...)`\n",
        "\n",
        "print(response)\n"
      ]
    }
  ],
  "metadata": {
    "kernelspec": {
      "display_name": "Python 3",
      "language": "python",
      "name": "python3"
    },
    "language_info": {
      "codemirror_mode": {
        "name": "ipython",
        "version": 3
      },
      "file_extension": ".py",
      "mimetype": "text/x-python",
      "name": "python",
      "nbconvert_exporter": "python",
      "pygments_lexer": "ipython3",
      "version": "3.10.0"
    }
  },
  "nbformat": 4,
  "nbformat_minor": 5
}